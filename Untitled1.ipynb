{
  "nbformat": 4,
  "nbformat_minor": 0,
  "metadata": {
    "colab": {
      "provenance": [],
      "authorship_tag": "ABX9TyNGUB0g6+i4UkIvd6ebFRFj",
      "include_colab_link": true
    },
    "kernelspec": {
      "name": "python3",
      "display_name": "Python 3"
    },
    "language_info": {
      "name": "python"
    }
  },
  "cells": [
    {
      "cell_type": "markdown",
      "metadata": {
        "id": "view-in-github",
        "colab_type": "text"
      },
      "source": [
        "<a href=\"https://colab.research.google.com/github/coolboy911/homework_py_9/blob/main/Untitled1.ipynb\" target=\"_parent\"><img src=\"https://colab.research.google.com/assets/colab-badge.svg\" alt=\"Open In Colab\"/></a>"
      ]
    },
    {
      "cell_type": "code",
      "execution_count": 1,
      "metadata": {
        "id": "MVx2V_vU2oed"
      },
      "outputs": [],
      "source": [
        "import pandas as pd\n",
        "df = pd.read_csv('/content/sample_data/california_housing_train.csv')"
      ]
    },
    {
      "cell_type": "markdown",
      "source": [
        "Определить **среднюю стоимость дома**, где кол-во людей от 0 до 500 **(population)**.\n",
        "\n",
        "*P.S.* **mean** это среднее значение а не **median**\n"
      ],
      "metadata": {
        "id": "wS2Tq1d53PFg"
      }
    },
    {
      "cell_type": "code",
      "source": [
        "df[(df['population'] >= 0) & (df['population'] <= 500)]['median_house_value'].mean()"
      ],
      "metadata": {
        "colab": {
          "base_uri": "https://localhost:8080/"
        },
        "id": "KJkkIird3Q4k",
        "outputId": "49187400-3ad6-4af0-bce5-34db0cc6adcb"
      },
      "execution_count": 6,
      "outputs": [
        {
          "output_type": "execute_result",
          "data": {
            "text/plain": [
              "206799.95140186916"
            ]
          },
          "metadata": {},
          "execution_count": 6
        }
      ]
    },
    {
      "cell_type": "markdown",
      "source": [
        "Узнать какая максимальная **households** в зоне минимального значения **population**.\n",
        "\n"
      ],
      "metadata": {
        "id": "X5sH1Jb94pna"
      }
    },
    {
      "cell_type": "code",
      "source": [
        "df[df['population'] == df['population'].min()]['households'].max()"
      ],
      "metadata": {
        "colab": {
          "base_uri": "https://localhost:8080/"
        },
        "id": "0av0eGnb45PC",
        "outputId": "0aec02e9-1e23-485f-be34-eb6cf68876e0"
      },
      "execution_count": 8,
      "outputs": [
        {
          "output_type": "execute_result",
          "data": {
            "text/plain": [
              "4.0"
            ]
          },
          "metadata": {},
          "execution_count": 8
        }
      ]
    }
  ]
}